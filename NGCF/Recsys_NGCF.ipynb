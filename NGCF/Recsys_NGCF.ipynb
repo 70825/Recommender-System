{
 "cells": [
  {
   "cell_type": "code",
   "execution_count": 1,
   "id": "0bed5620",
   "metadata": {},
   "outputs": [],
   "source": [
    "import heapq\n",
    "import torch\n",
    "import torch.nn as nn\n",
    "import torch.nn.functional as F\n",
    "import torch.optim as optim\n",
    "import random\n",
    "import numpy as np\n",
    "import pandas as pd\n",
    "import time\n",
    "import multiprocessing\n",
    "from data.worker import worker\n",
    "from IPython.display import clear_output\n",
    "import warnings\n",
    "warnings.filterwarnings(\"ignore\")"
   ]
  },
  {
   "cell_type": "markdown",
   "id": "22e43e51",
   "metadata": {},
   "source": [
    "## 1. 데이터 가공\n",
    "userId_problemId.csv 파일 필요"
   ]
  },
  {
   "cell_type": "code",
   "execution_count": 2,
   "id": "346bf463",
   "metadata": {},
   "outputs": [
    {
     "data": {
      "text/html": [
       "<div>\n",
       "<style scoped>\n",
       "    .dataframe tbody tr th:only-of-type {\n",
       "        vertical-align: middle;\n",
       "    }\n",
       "\n",
       "    .dataframe tbody tr th {\n",
       "        vertical-align: top;\n",
       "    }\n",
       "\n",
       "    .dataframe thead th {\n",
       "        text-align: right;\n",
       "    }\n",
       "</style>\n",
       "<table border=\"1\" class=\"dataframe\">\n",
       "  <thead>\n",
       "    <tr style=\"text-align: right;\">\n",
       "      <th></th>\n",
       "      <th>userId</th>\n",
       "      <th>problemId</th>\n",
       "    </tr>\n",
       "  </thead>\n",
       "  <tbody>\n",
       "    <tr>\n",
       "      <th>0</th>\n",
       "      <td>sos0911</td>\n",
       "      <td>1000</td>\n",
       "    </tr>\n",
       "    <tr>\n",
       "      <th>1</th>\n",
       "      <td>sos0911</td>\n",
       "      <td>1001</td>\n",
       "    </tr>\n",
       "    <tr>\n",
       "      <th>2</th>\n",
       "      <td>sos0911</td>\n",
       "      <td>1002</td>\n",
       "    </tr>\n",
       "    <tr>\n",
       "      <th>3</th>\n",
       "      <td>sos0911</td>\n",
       "      <td>1003</td>\n",
       "    </tr>\n",
       "    <tr>\n",
       "      <th>4</th>\n",
       "      <td>sos0911</td>\n",
       "      <td>1005</td>\n",
       "    </tr>\n",
       "  </tbody>\n",
       "</table>\n",
       "</div>"
      ],
      "text/plain": [
       "    userId  problemId\n",
       "0  sos0911       1000\n",
       "1  sos0911       1001\n",
       "2  sos0911       1002\n",
       "3  sos0911       1003\n",
       "4  sos0911       1005"
      ]
     },
     "execution_count": 2,
     "metadata": {},
     "output_type": "execute_result"
    }
   ],
   "source": [
    "df = pd.read_csv(\"./data/userId_problemId.csv\").loc[:,['userId', 'problemId']]\n",
    "df.head()"
   ]
  },
  {
   "cell_type": "markdown",
   "id": "535b09ab",
   "metadata": {},
   "source": [
    "### 1) userId remapping"
   ]
  },
  {
   "cell_type": "code",
   "execution_count": 3,
   "id": "cdab6deb",
   "metadata": {},
   "outputs": [],
   "source": [
    "def remap_user():\n",
    "    user_problem_df = pd.read_csv(\"./data/userId_problemId.csv\").loc[:, ['userId', 'problemId']]\n",
    "    user_df = pd.DataFrame({\"user_id\": [], \"remap_id\": []})\n",
    "    unique_sorted_user = sorted(user_problem_df['userId'].unique().tolist())\n",
    "    for i in range(len(unique_sorted_user)):\n",
    "        new_user_df = pd.DataFrame({\"user_id\": [unique_sorted_user[i]], \"remap_id\": [i]})\n",
    "        user_df = pd.concat((user_df, new_user_df))\n",
    "        \n",
    "    user_df.to_csv(\"./data/user_list.csv\", index=False)\n",
    "    print('user_list file saved successfully')"
   ]
  },
  {
   "cell_type": "markdown",
   "id": "c17b0d93",
   "metadata": {},
   "source": [
    "### 2) problemId remapping"
   ]
  },
  {
   "cell_type": "code",
   "execution_count": 4,
   "id": "427ed8bb",
   "metadata": {},
   "outputs": [],
   "source": [
    "def remap_problem():\n",
    "    user_problem_df = pd.read_csv(\"./data/userId_problemId.csv\").loc[:, ['userId', 'problemId']]\n",
    "    problem_df = pd.DataFrame({\"problem_id\": [], \"remap_id\": []})\n",
    "    unique_sorted_problem = sorted(user_problem_df['problemId'].unique().tolist())\n",
    "    for i in range(len(unique_sorted_problem)):\n",
    "        new_problem_df = pd.DataFrame({\"problem_id\": [unique_sorted_problem[i]], \"remap_id\": [i]})\n",
    "        problem_df = pd.concat((problem_df, new_problem_df))\n",
    "    \n",
    "    problem_df.to_csv(\"./data/problem_list.csv\", index=False)\n",
    "    print('problem_list file saved successfully')"
   ]
  },
  {
   "cell_type": "markdown",
   "id": "40825454",
   "metadata": {},
   "source": [
    "### 3) Convert userId, problemId"
   ]
  },
  {
   "cell_type": "code",
   "execution_count": 5,
   "id": "c7ba9093",
   "metadata": {},
   "outputs": [],
   "source": [
    "def remap_user_problem():\n",
    "    user_problem_df = pd.read_csv(\"./data/userId_problemId.csv\").loc[:, ['userId', 'problemId']]\n",
    "    user_df = pd.read_csv(\"./data/user_list.csv\")\n",
    "    problem_df = pd.read_csv(\"./data/problem_list.csv\")\n",
    "\n",
    "    manager = multiprocessing.Manager()\n",
    "    user_problem_remap_df = pd.DataFrame({'userId': [], 'problemId': []})\n",
    "\n",
    "    for i in range(0, user_problem_df['userId'].size, 10000):\n",
    "        clear_output(wait=True)\n",
    "        print('Loading: [{}]'.format('-' * (i // 10000) + '>' + '-' * (83 - i // 10000)))\n",
    "        \n",
    "        return_dict = manager.dict()\n",
    "        jobs = []\n",
    "        \n",
    "        for j in range(4):\n",
    "            p = multiprocessing.Process(target=worker, args=(j, i + 2500 * j, user_df, problem_df, user_problem_df[i + 2500*j:i+2500*(j+1)], return_dict))\n",
    "            jobs.append(p)\n",
    "            p.start()\n",
    "        for proc in jobs:\n",
    "            proc.join()\n",
    "            proc.close()\n",
    "        for j in range(len(return_dict.keys())):\n",
    "            pd.concat((user_problem_remap_df, return_dict[j]))\n",
    "    \n",
    "    user_problem_df.to_csv(\"./data/userId_problemId_remap.csv\", index=False)\n",
    "    print('userId_problemId_remap file saved successfully')"
   ]
  },
  {
   "cell_type": "code",
   "execution_count": 6,
   "id": "a176afaf",
   "metadata": {},
   "outputs": [
    {
     "name": "stdout",
     "output_type": "stream",
     "text": [
      "user_list file saved successfully\n"
     ]
    }
   ],
   "source": [
    "remap_user()"
   ]
  },
  {
   "cell_type": "code",
   "execution_count": 7,
   "id": "c2e67b59",
   "metadata": {
    "scrolled": false
   },
   "outputs": [
    {
     "name": "stdout",
     "output_type": "stream",
     "text": [
      "problem_list file saved successfully\n"
     ]
    }
   ],
   "source": [
    "remap_problem()"
   ]
  },
  {
   "cell_type": "markdown",
   "id": "f36b73ef",
   "metadata": {},
   "source": [
    "multiprocessing을 사용하여 30분 이상 걸리던 작업을 13분으로 단축"
   ]
  },
  {
   "cell_type": "code",
   "execution_count": 9,
   "id": "295ccb55",
   "metadata": {
    "scrolled": true
   },
   "outputs": [
    {
     "name": "stdout",
     "output_type": "stream",
     "text": [
      "Loading: [----------------------------------------------------------------------------------->]\n",
      "userId_problemId_remap file saved successfully\n",
      "790.1658284664154\n"
     ]
    }
   ],
   "source": [
    "remap_user_problem()"
   ]
  },
  {
   "cell_type": "code",
   "execution_count": null,
   "id": "6839690c",
   "metadata": {},
   "outputs": [],
   "source": []
  }
 ],
 "metadata": {
  "kernelspec": {
   "display_name": "Python 3 (ipykernel)",
   "language": "python",
   "name": "python3"
  },
  "language_info": {
   "codemirror_mode": {
    "name": "ipython",
    "version": 3
   },
   "file_extension": ".py",
   "mimetype": "text/x-python",
   "name": "python",
   "nbconvert_exporter": "python",
   "pygments_lexer": "ipython3",
   "version": "3.7.11"
  }
 },
 "nbformat": 4,
 "nbformat_minor": 5
}
